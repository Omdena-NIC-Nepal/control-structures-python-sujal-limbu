{
 "cells": [
  {
   "cell_type": "code",
   "execution_count": 12,
   "metadata": {},
   "outputs": [],
   "source": [
    "def while_loop():\n",
    "    number = 0\n",
    "    while number <= 20:\n",
    "        if number % 2 == 0:\n",
    "            print(number)\n",
    "        if number == 16:\n",
    "            break\n",
    "        number += 1 "
   ]
  },
  {
   "cell_type": "code",
   "execution_count": null,
   "metadata": {},
   "outputs": [],
   "source": [
    "# Task 2: for loop with continue\n",
    "def for_loop_continue():\n",
    "    for num in range(1, 16):\n",
    "        if num % 3 == 0:\n",
    "            continue\n",
    "        print (num) \n"
   ]
  },
  {
   "cell_type": "code",
   "execution_count": null,
   "metadata": {},
   "outputs": [],
   "source": [
    "def number_classification():\n",
    "    \n",
    "    num = int(input())\n",
    "    if num > 0:\n",
    "        print(\"Positive\")\n",
    "    elif num < 0:\n",
    "        print(\"Negative\")\n",
    "    else:\n",
    "        print(\"Zero\")"
   ]
  },
  {
   "cell_type": "code",
   "execution_count": null,
   "metadata": {},
   "outputs": [],
   "source": [
    "def multiplication_table():\n",
    "    \n",
    "    for i in range(1, 6):\n",
    "        for j in range(1, 6):\n",
    "            print(f\"{i} x {j} = {i * j}\")"
   ]
  }
 ],
 "metadata": {
  "kernelspec": {
   "display_name": "Python 3",
   "language": "python",
   "name": "python3"
  },
  "language_info": {
   "codemirror_mode": {
    "name": "ipython",
    "version": 3
   },
   "file_extension": ".py",
   "mimetype": "text/x-python",
   "name": "python",
   "nbconvert_exporter": "python",
   "pygments_lexer": "ipython3",
   "version": "3.13.1"
  }
 },
 "nbformat": 4,
 "nbformat_minor": 2
}
